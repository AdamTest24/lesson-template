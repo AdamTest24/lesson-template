{
 "cells": [
  {
   "cell_type": "raw",
   "id": "79dbcfc5",
   "metadata": {},
   "source": [
    "---\n",
    "title: 'introduction'\n",
    "teaching: 10\n",
    "exercises: 2\n",
    "---"
   ]
  },
  {
   "cell_type": "markdown",
   "id": "0f6fbd12",
   "metadata": {},
   "source": [
    ":::::::::::::::::::::::::::::::::::::: questions \n",
    "\n",
    "- How do you write a lesson using R Markdown and `{sandpaper}`?\n",
    "\n",
    "::::::::::::::::::::::::::::::::::::::::::::::::\n",
    "\n",
    "::::::::::::::::::::::::::::::::::::: objectives\n",
    "\n",
    "- Explain how to use markdown with the new lesson template\n",
    "- Demonstrate how to include pieces of code, figures, and nested challenge blocks\n",
    "\n",
    "::::::::::::::::::::::::::::::::::::::::::::::::\n",
    "\n",
    "## Introduction\n",
    "\n",
    "This is a lesson created via The Carpentries Workbench. It is written in\n",
    "[Pandoc-flavored Markdown][pandoc] for static files (with extension `.md`) and\n",
    "[R Markdown][r-markdown] for dynamic files that can render code into output\n",
    "(with extension `.Rmd`). Please refer to the [Introduction to The Carpentries\n",
    "Workbench][carpentries-workbench] for full documentation.\n",
    "\n",
    "What you need to know is that there are three sections required for a valid\n",
    "Carpentries lesson template:\n",
    "\n",
    " 1. `questions` are displayed at the beginning of the episode to prime the\n",
    "    learner for the content.\n",
    " 2. `objectives` are the learning objectives for an episode displayed with\n",
    "    the questions.\n",
    " 3. `keypoints` are displayed at the end of the episode to reinforce the\n",
    "    objectives.\n",
    "\n",
    ":::::::::::::::::::::::::::::::::::::::::::::::::::::::::::::::::::: instructor\n",
    "\n",
    "Inline instructor notes can help inform instructors of timing challenges\n",
    "associated with the lessons. They appear in the \"Instructor View\"\n",
    "\n",
    "::::::::::::::::::::::::::::::::::::::::::::::::::::::::::::::::::::::::::::::::\n",
    "\n",
    "::::::::::::::::::::::::::::::::::::: challenge \n",
    "\n",
    "## Challenge 1: Can you do it?\n",
    "\n",
    "What is the output of this command?\n",
    "\n",
    "```r\n",
    "paste(\"This\", \"new\", \"lesson\", \"looks\", \"good\")\n",
    "```\n",
    "\n",
    ":::::::::::::::::::::::: solution \n",
    "\n",
    "## Output\n",
    " \n",
    "```output\n",
    "[1] \"This new lesson looks good\"\n",
    "```\n",
    "\n",
    ":::::::::::::::::::::::::::::::::"
   ]
  },
  {
   "cell_type": "markdown",
   "id": "c7bccd3f",
   "metadata": {},
   "source": [
    "## Challenge 2: how do you nest solutions within challenge blocks?\n",
    "\n",
    ":::::::::::::::::::::::: solution \n",
    "\n",
    "You can add a line with at least three colons and a `solution` tag.\n",
    "\n",
    ":::::::::::::::::::::::::::::::::\n",
    "::::::::::::::::::::::::::::::::::::::::::::::::\n",
    "\n",
    "## Figures\n",
    "\n",
    "You can include figures generated from R Markdown:"
   ]
  },
  {
   "cell_type": "code",
   "execution_count": null,
   "id": "e0b66a57",
   "metadata": {
    "fig.alt": "pie chart illusion of a pyramid",
    "fig.cap": "Sun arise each and every morning",
    "lines_to_next_cell": 0,
    "name": "pyramid"
   },
   "outputs": [],
   "source": [
    "pie(\n",
    "  c(Sky = 78, \"Sunny side of pyramid\" = 17, \"Shady side of pyramid\" = 5), \n",
    "  init.angle = 315, \n",
    "  col = c(\"deepskyblue\", \"yellow\", \"yellow3\"), \n",
    "  border = FALSE\n",
    ")"
   ]
  },
  {
   "cell_type": "markdown",
   "id": "cb22722c",
   "metadata": {},
   "source": [
    "Or you can use pandoc markdown for static figures with the following syntax:\n",
    "\n",
    "`![optional caption that appears below the figure](figure url){alt='alt text for\n",
    "accessibility purposes'}`\n",
    "\n",
    "![You belong in The Carpentries!](https://raw.githubusercontent.com/carpentries/logo/master/Badge_Carpentries.svg){alt='Blue Carpentries hex person logo with no text.'}\n",
    "\n",
    "## Math\n",
    "\n",
    "One of our episodes contains $\\LaTeX$ equations when describing how to create\n",
    "dynamic reports with {knitr}, so we now use mathjax to describe this:\n",
    "\n",
    "`$\\alpha = \\dfrac{1}{(1 - \\beta)^2}$` becomes: $\\alpha = \\dfrac{1}{(1 - \\beta)^2}$\n",
    "\n",
    "Cool, right?\n",
    "\n",
    "::::::::::::::::::::::::::::::::::::: keypoints \n",
    "\n",
    "- Use `.md` files for episodes when you want static content\n",
    "- Use `.Rmd` files for episodes when you need to generate output\n",
    "- Run `sandpaper::check_lesson()` to identify any issues with your lesson\n",
    "- Run `sandpaper::build_lesson()` to preview your lesson locally\n",
    "\n",
    "::::::::::::::::::::::::::::::::::::::::::::::::\n"
   ]
  }
 ],
 "metadata": {
  "jupytext": {
   "cell_metadata_filter": "fig.alt,fig.cap,name,-all",
   "main_language": "R",
   "notebook_metadata_filter": "-all"
  }
 },
 "nbformat": 4,
 "nbformat_minor": 5
}
